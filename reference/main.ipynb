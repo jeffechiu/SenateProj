{
 "cells": [
  {
   "cell_type": "code",
   "execution_count": 1,
   "metadata": {
    "collapsed": false,
    "jupyter": {
     "outputs_hidden": false
    }
   },
   "outputs": [],
   "source": [
    "import pandas as pd\n",
    "import numpy as np\n",
    "from sklearn import preprocessing"
   ]
  },
  {
   "cell_type": "code",
   "execution_count": 2,
   "metadata": {
    "collapsed": false,
    "jupyter": {
     "outputs_hidden": false
    }
   },
   "outputs": [],
   "source": [
    "import pandas as pd\n",
    "master = pd.read_csv('master.csv')\n",
    "challenger = pd.read_csv('challenger.csv')\n",
    "grandmaster = pd.read_csv('grandmaster.csv')"
   ]
  },
  {
   "cell_type": "markdown",
   "metadata": {},
   "source": [
    "The data:\n",
    "\n",
    "- **gameId:** Unique Riot game ID. Can be used with the Riot Games API\n",
    "- **gameDuation:** Game Duration(seconds)\n",
    "\n",
    "\n",
    "- **blueWins:** target variance. 1 if the blue team win, 0 lose\n",
    "- **blueFirstBlood:** blue team whether first blood\n",
    "- **blueFirstTower:** blue team whether first tower\n",
    "- **blueFirstBaron:** blue team whether first baron\n",
    "- **blueFirstDragon:** blue team whether first dragon\n",
    "- **blueFirstInhibitor:** blue team whether first inhibitor\n",
    "- **blueDragonKills:** blue team dragon kill counts\n",
    "- **blueBaronKills:** blue team baron kill counts\n",
    "- **blueTowerKills:** blue team tower kill counts\n",
    "- **blueInhibitorKills:** blue team inhibitors kill counts\n",
    "- **blueWardPlaced:** blue team ward placed counts(Number of warding totems)\n",
    "- **blueWardkills:** blue team ward killed counts(Number of warding killed)\n",
    "- **blueKills:** blue team enemy champion kill counts\n",
    "- **blueDeath:** blue team death counts\n",
    "- **blueAssist:** blue team enemy kill assist counts\n",
    "- **blueChampionDamageDealt:** blue team damage dealt to enemy champion\n",
    "- **blueTotalGold:** blue team earnd total gold\n",
    "- **blueTotalMinionKills:** blue team kill minion counts\n",
    "- **blueTotalLevel:** blue team total champion levels\n",
    "- **blueAvgLevel:** blue team average champion levels\n",
    "- **blueJungleMinionKills:** blue team kill jungle minion counts\n",
    "- **blueKillingSpree:** blue team squence kill counts\n",
    "- **blueTotalHeal:** blue team heal amounts\n",
    "- **blueObjectDamageDealt:** blue team damage dealt to objects\n",
    "\n",
    "- **redWins:** target variance. 1 if the red team win, 0 lose\n",
    "- **redFirstBlood:** red team whether first blood\n",
    "- **redFirstTower:** red team whether first tower\n",
    "- **redFirstBaron:** red team whether first baron\n",
    "- **redFirstDragon:** red team whether first dragon\n",
    "- **redFirstInhibitor:** red team whether first inhibitor\n",
    "- **redDragonKills:** red team dragon kill counts\n",
    "- **redBaronKills:** red team baron kill counts\n",
    "- **redTowerKills:** red team tower kill counts\n",
    "- **redInhibitorKills:** red team inhibitors kill counts\n",
    "- **redWardPlaced:** red team ward placed counts(Number of warding totems)\n",
    "- **redWardkills:** red team ward killed counts(Number of warding killed)\n",
    "- **redKills:** red team enemy champion kill counts\n",
    "- **redDeath:** red team death counts\n",
    "- **redAssist:** red team enemy kill assist counts\n",
    "- **redChampionDamageDealt:** red team damage dealt to enemy champion\n",
    "- **redTotalGold:** red team earnd total gold\n",
    "- **redTotalMinionKills:** red team kill minion counts\n",
    "- **redTotalLevel:** red team total champion levels\n",
    "- **redAvgLevel:** red team average champion levels\n",
    "- **redJungleMinionKills:** red team kill jungle minion counts\n",
    "- **redKillingSpree:** red team squence kill counts\n",
    "- **redTotalHeal:** red team heal amounts\n",
    "- **redObjectDamageDealt:** red team damage dealt to objects\n"
   ]
  },
  {
   "cell_type": "markdown",
   "metadata": {},
   "source": [
    "## Step 1: Merging Data"
   ]
  },
  {
   "cell_type": "code",
   "execution_count": 3,
   "metadata": {
    "collapsed": false,
    "jupyter": {
     "outputs_hidden": false
    }
   },
   "outputs": [],
   "source": [
    "trainRaw = master.append(grandmaster)\n",
    "trainRaw = trainRaw.append(challenger)"
   ]
  },
  {
   "cell_type": "code",
   "execution_count": 4,
   "metadata": {
    "collapsed": false,
    "jupyter": {
     "outputs_hidden": false
    }
   },
   "outputs": [],
   "source": [
    "blue = trainRaw[['gameDuraton', 'blueWins', 'blueFirstBlood', 'blueFirstTower', 'blueFirstBaron', 'blueFirstDragon', 'blueFirstInhibitor', 'blueDragonKills', 'blueBaronKills', 'blueTowerKills', 'blueInhibitorKills', 'blueWardPlaced', 'blueWardkills', 'blueKills', 'blueDeath', 'blueAssist', 'blueChampionDamageDealt', 'blueTotalGold', 'blueTotalMinionKills', 'blueTotalLevel', 'blueAvgLevel', 'blueJungleMinionKills', 'blueKillingSpree', 'blueTotalHeal', 'blueObjectDamageDealt']]\n",
    "red = trainRaw[['gameDuraton', 'redWins', 'redFirstBlood', 'redFirstTower', 'redFirstBaron', 'redFirstDragon', 'redFirstInhibitor', 'redDragonKills', 'redBaronKills', 'redTowerKills', 'redInhibitorKills', 'redWardPlaced', 'redWardkills', 'redKills', 'redDeath', 'redAssist', 'redChampionDamageDealt', 'redTotalGold', 'redTotalMinionKills', 'redTotalLevel', 'redAvgLevel', 'redJungleMinionKills', 'redKillingSpree', 'redTotalHeal', 'redObjectDamageDealt']]"
   ]
  },
  {
   "cell_type": "code",
   "execution_count": 5,
   "metadata": {
    "collapsed": false,
    "jupyter": {
     "outputs_hidden": false
    }
   },
   "outputs": [
    {
     "name": "stderr",
     "output_type": "stream",
     "text": [
      "/usr/local/lib/python3.6/dist-packages/ipykernel/__main__.py:1: SettingWithCopyWarning: \n",
      "A value is trying to be set on a copy of a slice from a DataFrame.\n",
      "Try using .loc[row_indexer,col_indexer] = value instead\n",
      "\n",
      "See the caveats in the documentation: https://pandas.pydata.org/pandas-docs/stable/user_guide/indexing.html#returning-a-view-versus-a-copy\n",
      "  if __name__ == '__main__':\n",
      "/usr/local/lib/python3.6/dist-packages/ipykernel/__main__.py:2: SettingWithCopyWarning: \n",
      "A value is trying to be set on a copy of a slice from a DataFrame.\n",
      "Try using .loc[row_indexer,col_indexer] = value instead\n",
      "\n",
      "See the caveats in the documentation: https://pandas.pydata.org/pandas-docs/stable/user_guide/indexing.html#returning-a-view-versus-a-copy\n",
      "  from ipykernel import kernelapp as app\n"
     ]
    }
   ],
   "source": [
    "blue['side'] = 0\n",
    "red['side'] = 1"
   ]
  },
  {
   "cell_type": "code",
   "execution_count": 6,
   "metadata": {
    "collapsed": false,
    "jupyter": {
     "outputs_hidden": false
    }
   },
   "outputs": [],
   "source": [
    "blue = blue.rename(columns={\"gameDuraton\": \"gameDuration\", \"blueWins\":\"win\", \"blueFirstBlood\":\"firstBlood\", \"blueFirstTower\":\"firstTower\", \"blueFirstBaron\": 'firstBaron', \"blueFirstDragon\":\"firstDragon\", \"blueFirstInhibitor\":\"firstInhibitor\", \"blueDragonKills\": \"dragonKills\", \"blueBaronKills\":\"baronKills\", \"blueTowerKills\":\"towerKills\", \"blueInhibitorKills\":\"inhibitorKills\", \"blueWardPlaced\":\"wardsPlaced\", \"blueWardkills\":\"wardsKilled\", \"blueKills\":\"kills\", \"blueDeath\":\"deaths\", \"blueAssist\":\"assist\", \"blueChampionDamageDealt\":\"championDamageDealt\", \"blueTotalGold\":\"totalGold\", \"blueTotalMinionKills\":\"totalMinionKills\", \"blueTotalLevel\":\"totalLevel\", \"blueAvgLevel\":\"avgLevel\", \"blueJungleMinionKills\":\"jungleMinionKills\", \"blueKillingSpree\":\"killingSprees\", \"blueTotalHeal\": \"totalHealed\", \"blueObjectDamageDealt\": \"objectDamageDealt\"})"
   ]
  },
  {
   "cell_type": "code",
   "execution_count": 7,
   "metadata": {
    "collapsed": false,
    "jupyter": {
     "outputs_hidden": false
    }
   },
   "outputs": [],
   "source": [
    "red = red.rename(columns={\"gameDuraton\": \"gameDuration\", \"redWins\":\"win\", \"redFirstBlood\":\"firstBlood\", \"redFirstTower\":\"firstTower\", \"redFirstBaron\": 'firstBaron',\"redFirstDragon\":\"firstDragon\", \"redFirstInhibitor\":\"firstInhibitor\", \"redDragonKills\": \"dragonKills\", \"redBaronKills\":\"baronKills\", \"redTowerKills\":\"towerKills\", \"redInhibitorKills\":\"inhibitorKills\", \"redWardPlaced\":\"wardsPlaced\", \"redWardkills\":\"wardsKilled\", \"redKills\":\"kills\", \"redDeath\":\"deaths\", \"redAssist\":\"assist\", \"redChampionDamageDealt\":\"championDamageDealt\", \"redTotalGold\":\"totalGold\", \"redTotalMinionKills\":\"totalMinionKills\", \"redTotalLevel\":\"totalLevel\", \"redAvgLevel\":\"avgLevel\", \"redJungleMinionKills\":\"jungleMinionKills\", \"redKillingSpree\":\"killingSprees\", \"redTotalHeal\": \"totalHealed\", \"redObjectDamageDealt\": \"objectDamageDealt\"})"
   ]
  },
  {
   "cell_type": "markdown",
   "metadata": {},
   "source": [
    "We dealt with one row of data as two distinct row"
   ]
  },
  {
   "cell_type": "code",
   "execution_count": 8,
   "metadata": {
    "collapsed": false,
    "jupyter": {
     "outputs_hidden": false
    }
   },
   "outputs": [
    {
     "data": {
      "text/plain": [
       "(399850, 26)"
      ]
     },
     "execution_count": 8,
     "metadata": {},
     "output_type": "execute_result"
    }
   ],
   "source": [
    "allData = blue.append(red)\n",
    "allData.shape"
   ]
  },
  {
   "cell_type": "code",
   "execution_count": 9,
   "metadata": {
    "collapsed": false,
    "jupyter": {
     "outputs_hidden": false
    }
   },
   "outputs": [],
   "source": [
    "cols = [\"gameDuration\", \"firstBlood\", \"firstTower\", \"firstBaron\", \"firstDragon\", \"firstInhibitor\", \"dragonKills\", \"baronKills\", \"towerKills\", \"inhibitorKills\", \"wardsPlaced\", \"wardsKilled\", \"kills\", \"deaths\", \"assist\", \"championDamageDealt\", \"totalGold\", \"totalMinionKills\", \"totalLevel\", \"avgLevel\", \"jungleMinionKills\", \"killingSprees\", \"totalHealed\", \"objectDamageDealt\", \"side\"]"
   ]
  },
  {
   "cell_type": "markdown",
   "metadata": {},
   "source": [
    "## Step 2: Creating Test and Train Sets"
   ]
  },
  {
   "cell_type": "code",
   "execution_count": 10,
   "metadata": {
    "collapsed": false,
    "jupyter": {
     "outputs_hidden": false
    },
    "scrolled": true
   },
   "outputs": [],
   "source": [
    "x = allData[cols]\n",
    "y = allData.win"
   ]
  },
  {
   "cell_type": "code",
   "execution_count": 11,
   "metadata": {
    "collapsed": false,
    "jupyter": {
     "outputs_hidden": false
    }
   },
   "outputs": [],
   "source": [
    "from sklearn import metrics\n",
    "from sklearn.model_selection import train_test_split\n",
    "\n",
    "x_train, x_test, y_train, y_test = train_test_split(x,y, test_size=0.2)"
   ]
  },
  {
   "cell_type": "markdown",
   "metadata": {},
   "source": [
    "## Step 3: Run algorithms on sets"
   ]
  },
  {
   "cell_type": "markdown",
   "metadata": {},
   "source": [
    "### a. SGD Classifier"
   ]
  },
  {
   "cell_type": "markdown",
   "metadata": {},
   "source": [
    "We initially chose the SGD classifier because we had a huge sample size. We knew that we were using Classification and we started with SGD to set a base line in terms of performance as it is a fast algorithm. After we ran this algorithm, we achieved around a 70% ~ 90% rate of accuracy and decided to move to logistic regression for better performance. "
   ]
  },
  {
   "cell_type": "code",
   "execution_count": 12,
   "metadata": {
    "collapsed": false,
    "jupyter": {
     "outputs_hidden": false
    }
   },
   "outputs": [],
   "source": [
    "from sklearn.linear_model import SGDClassifier\n",
    "lst = []\n",
    "for i in range(10):\n",
    "    sgd = SGDClassifier(max_iter = 2000)\n",
    "    sgd.fit(x_train, y_train)\n",
    "    y_pred_sgd = sgd.predict(x_test)\n",
    "    lst += [metrics.accuracy_score(y_test, y_pred_sgd)]"
   ]
  },
  {
   "cell_type": "markdown",
   "metadata": {},
   "source": [
    "Because we were working with such a huge set of data, we only ran out algorithm 10 times to give us an idea of the accuracy of our SGD classifier algorithm. "
   ]
  },
  {
   "cell_type": "code",
   "execution_count": 30,
   "metadata": {
    "collapsed": false,
    "jupyter": {
     "outputs_hidden": false
    }
   },
   "outputs": [
    {
     "data": {
      "text/plain": [
       "0.9317744154057772"
      ]
     },
     "execution_count": 30,
     "metadata": {},
     "output_type": "execute_result"
    }
   ],
   "source": [
    "import statistics\n",
    "y_pred_sgd = statistics.mean(lst)\n",
    "y_pred_sgd"
   ]
  },
  {
   "cell_type": "code",
   "execution_count": 33,
   "metadata": {
    "collapsed": false,
    "jupyter": {
     "outputs_hidden": false
    }
   },
   "outputs": [
    {
     "data": {
      "text/plain": [
       "array([0, 0, 1, ..., 1, 1, 1])"
      ]
     },
     "execution_count": 33,
     "metadata": {},
     "output_type": "execute_result"
    }
   ],
   "source": [
    "y_pred_sgd = sgd.predict(x_test)\n",
    "y_pred_sgd"
   ]
  },
  {
   "cell_type": "code",
   "execution_count": 18,
   "metadata": {
    "collapsed": false,
    "jupyter": {
     "outputs_hidden": false
    }
   },
   "outputs": [
    {
     "data": {
      "text/plain": [
       "0.812692259597349"
      ]
     },
     "execution_count": 18,
     "metadata": {},
     "output_type": "execute_result"
    }
   ],
   "source": [
    "metrics.accuracy_score(y_test, y_pred_sgd)"
   ]
  },
  {
   "cell_type": "markdown",
   "metadata": {},
   "source": [
    "### b. Logistic Regression"
   ]
  },
  {
   "cell_type": "code",
   "execution_count": 27,
   "metadata": {
    "collapsed": false,
    "jupyter": {
     "outputs_hidden": false
    }
   },
   "outputs": [
    {
     "name": "stderr",
     "output_type": "stream",
     "text": [
      "/usr/local/lib/python3.6/dist-packages/sklearn/linear_model/_logistic.py:940: ConvergenceWarning: lbfgs failed to converge (status=1):\n",
      "STOP: TOTAL NO. of ITERATIONS REACHED LIMIT.\n",
      "\n",
      "Increase the number of iterations (max_iter) or scale the data as shown in:\n",
      "    https://scikit-learn.org/stable/modules/preprocessing.html\n",
      "Please also refer to the documentation for alternative solver options:\n",
      "    https://scikit-learn.org/stable/modules/linear_model.html#logistic-regression\n",
      "  extra_warning_msg=_LOGISTIC_SOLVER_CONVERGENCE_MSG)\n"
     ]
    },
    {
     "data": {
      "text/plain": [
       "LogisticRegression(C=1.0, class_weight=None, dual=False, fit_intercept=True,\n",
       "                   intercept_scaling=1, l1_ratio=None, max_iter=100,\n",
       "                   multi_class='auto', n_jobs=None, penalty='l2',\n",
       "                   random_state=None, solver='lbfgs', tol=0.0001, verbose=0,\n",
       "                   warm_start=False)"
      ]
     },
     "execution_count": 27,
     "metadata": {},
     "output_type": "execute_result"
    }
   ],
   "source": [
    "from sklearn.linear_model import LogisticRegression\n",
    "logreg = LogisticRegression()\n",
    "logreg.fit(x_train, y_train)"
   ]
  },
  {
   "cell_type": "code",
   "execution_count": 28,
   "metadata": {
    "collapsed": false,
    "jupyter": {
     "outputs_hidden": false
    }
   },
   "outputs": [],
   "source": [
    "y_pred_log = logreg.predict(x_test)"
   ]
  },
  {
   "cell_type": "code",
   "execution_count": null,
   "metadata": {
    "collapsed": false,
    "jupyter": {
     "outputs_hidden": false
    }
   },
   "outputs": [],
   "source": [
    "print(metrics.accuracy_score(y_test, y_pred_log))"
   ]
  },
  {
   "cell_type": "markdown",
   "metadata": {},
   "source": [
    "Similarly, after we tried the Logistic Regression once, we continue to try logistic regression 10 times to see the difference in accuracy between the SGD classifier and Logistic Regression. "
   ]
  },
  {
   "cell_type": "code",
   "execution_count": 29,
   "metadata": {
    "collapsed": false,
    "jupyter": {
     "outputs_hidden": false
    }
   },
   "outputs": [
    {
     "name": "stderr",
     "output_type": "stream",
     "text": [
      "/usr/local/lib/python3.6/dist-packages/sklearn/linear_model/_logistic.py:940: ConvergenceWarning: lbfgs failed to converge (status=1):\n",
      "STOP: TOTAL NO. of ITERATIONS REACHED LIMIT.\n",
      "\n",
      "Increase the number of iterations (max_iter) or scale the data as shown in:\n",
      "    https://scikit-learn.org/stable/modules/preprocessing.html\n",
      "Please also refer to the documentation for alternative solver options:\n",
      "    https://scikit-learn.org/stable/modules/linear_model.html#logistic-regression\n",
      "  extra_warning_msg=_LOGISTIC_SOLVER_CONVERGENCE_MSG)\n",
      "/usr/local/lib/python3.6/dist-packages/sklearn/linear_model/_logistic.py:940: ConvergenceWarning: lbfgs failed to converge (status=1):\n",
      "STOP: TOTAL NO. of ITERATIONS REACHED LIMIT.\n",
      "\n",
      "Increase the number of iterations (max_iter) or scale the data as shown in:\n",
      "    https://scikit-learn.org/stable/modules/preprocessing.html\n",
      "Please also refer to the documentation for alternative solver options:\n",
      "    https://scikit-learn.org/stable/modules/linear_model.html#logistic-regression\n",
      "  extra_warning_msg=_LOGISTIC_SOLVER_CONVERGENCE_MSG)\n",
      "/usr/local/lib/python3.6/dist-packages/sklearn/linear_model/_logistic.py:940: ConvergenceWarning: lbfgs failed to converge (status=1):\n",
      "STOP: TOTAL NO. of ITERATIONS REACHED LIMIT.\n",
      "\n",
      "Increase the number of iterations (max_iter) or scale the data as shown in:\n",
      "    https://scikit-learn.org/stable/modules/preprocessing.html\n",
      "Please also refer to the documentation for alternative solver options:\n",
      "    https://scikit-learn.org/stable/modules/linear_model.html#logistic-regression\n",
      "  extra_warning_msg=_LOGISTIC_SOLVER_CONVERGENCE_MSG)\n",
      "/usr/local/lib/python3.6/dist-packages/sklearn/linear_model/_logistic.py:940: ConvergenceWarning: lbfgs failed to converge (status=1):\n",
      "STOP: TOTAL NO. of ITERATIONS REACHED LIMIT.\n",
      "\n",
      "Increase the number of iterations (max_iter) or scale the data as shown in:\n",
      "    https://scikit-learn.org/stable/modules/preprocessing.html\n",
      "Please also refer to the documentation for alternative solver options:\n",
      "    https://scikit-learn.org/stable/modules/linear_model.html#logistic-regression\n",
      "  extra_warning_msg=_LOGISTIC_SOLVER_CONVERGENCE_MSG)\n",
      "/usr/local/lib/python3.6/dist-packages/sklearn/linear_model/_logistic.py:940: ConvergenceWarning: lbfgs failed to converge (status=1):\n",
      "STOP: TOTAL NO. of ITERATIONS REACHED LIMIT.\n",
      "\n",
      "Increase the number of iterations (max_iter) or scale the data as shown in:\n",
      "    https://scikit-learn.org/stable/modules/preprocessing.html\n",
      "Please also refer to the documentation for alternative solver options:\n",
      "    https://scikit-learn.org/stable/modules/linear_model.html#logistic-regression\n",
      "  extra_warning_msg=_LOGISTIC_SOLVER_CONVERGENCE_MSG)\n",
      "/usr/local/lib/python3.6/dist-packages/sklearn/linear_model/_logistic.py:940: ConvergenceWarning: lbfgs failed to converge (status=1):\n",
      "STOP: TOTAL NO. of ITERATIONS REACHED LIMIT.\n",
      "\n",
      "Increase the number of iterations (max_iter) or scale the data as shown in:\n",
      "    https://scikit-learn.org/stable/modules/preprocessing.html\n",
      "Please also refer to the documentation for alternative solver options:\n",
      "    https://scikit-learn.org/stable/modules/linear_model.html#logistic-regression\n",
      "  extra_warning_msg=_LOGISTIC_SOLVER_CONVERGENCE_MSG)\n",
      "/usr/local/lib/python3.6/dist-packages/sklearn/linear_model/_logistic.py:940: ConvergenceWarning: lbfgs failed to converge (status=1):\n",
      "STOP: TOTAL NO. of ITERATIONS REACHED LIMIT.\n",
      "\n",
      "Increase the number of iterations (max_iter) or scale the data as shown in:\n",
      "    https://scikit-learn.org/stable/modules/preprocessing.html\n",
      "Please also refer to the documentation for alternative solver options:\n",
      "    https://scikit-learn.org/stable/modules/linear_model.html#logistic-regression\n",
      "  extra_warning_msg=_LOGISTIC_SOLVER_CONVERGENCE_MSG)\n",
      "/usr/local/lib/python3.6/dist-packages/sklearn/linear_model/_logistic.py:940: ConvergenceWarning: lbfgs failed to converge (status=1):\n",
      "STOP: TOTAL NO. of ITERATIONS REACHED LIMIT.\n",
      "\n",
      "Increase the number of iterations (max_iter) or scale the data as shown in:\n",
      "    https://scikit-learn.org/stable/modules/preprocessing.html\n",
      "Please also refer to the documentation for alternative solver options:\n",
      "    https://scikit-learn.org/stable/modules/linear_model.html#logistic-regression\n",
      "  extra_warning_msg=_LOGISTIC_SOLVER_CONVERGENCE_MSG)\n",
      "/usr/local/lib/python3.6/dist-packages/sklearn/linear_model/_logistic.py:940: ConvergenceWarning: lbfgs failed to converge (status=1):\n",
      "STOP: TOTAL NO. of ITERATIONS REACHED LIMIT.\n",
      "\n",
      "Increase the number of iterations (max_iter) or scale the data as shown in:\n",
      "    https://scikit-learn.org/stable/modules/preprocessing.html\n",
      "Please also refer to the documentation for alternative solver options:\n",
      "    https://scikit-learn.org/stable/modules/linear_model.html#logistic-regression\n",
      "  extra_warning_msg=_LOGISTIC_SOLVER_CONVERGENCE_MSG)\n",
      "/usr/local/lib/python3.6/dist-packages/sklearn/linear_model/_logistic.py:940: ConvergenceWarning: lbfgs failed to converge (status=1):\n",
      "STOP: TOTAL NO. of ITERATIONS REACHED LIMIT.\n",
      "\n",
      "Increase the number of iterations (max_iter) or scale the data as shown in:\n",
      "    https://scikit-learn.org/stable/modules/preprocessing.html\n",
      "Please also refer to the documentation for alternative solver options:\n",
      "    https://scikit-learn.org/stable/modules/linear_model.html#logistic-regression\n",
      "  extra_warning_msg=_LOGISTIC_SOLVER_CONVERGENCE_MSG)\n"
     ]
    }
   ],
   "source": [
    "lst = []\n",
    "for i in range(10):\n",
    "    logreg = LogisticRegression()\n",
    "    logreg.fit(x_train, y_train)\n",
    "    y_pred_log = logreg.predict(x_test)\n",
    "    lst += [metrics.accuracy_score(y_test, y_pred_log)]"
   ]
  },
  {
   "cell_type": "code",
   "execution_count": 34,
   "metadata": {
    "collapsed": false,
    "jupyter": {
     "outputs_hidden": false
    }
   },
   "outputs": [
    {
     "data": {
      "text/plain": [
       "0.9317744154057772"
      ]
     },
     "execution_count": 34,
     "metadata": {},
     "output_type": "execute_result"
    }
   ],
   "source": [
    "import statistics\n",
    "statistics.mean(lst)"
   ]
  },
  {
   "cell_type": "markdown",
   "metadata": {},
   "source": [
    "## Step 4: Change Data Set and Re-run Algorithms"
   ]
  },
  {
   "cell_type": "markdown",
   "metadata": {},
   "source": [
    "At this point, we realize that the accuracy of our model was pretty good. We realized that this might be due to the fact that a lot of the columns in our data set was information that was strongly correlated and sometimes the causes of Victory or Defeat for the game. For example, within the game, one team cannot win unless they at least destroy two primary towers, an inhibitor, two secondary towers, and the final nexus. Column data such as \"redTowerKills\" or \"blueInhibitorKills\" were within our data set. \n",
    "\n",
    "Furthermore, we realized that these data columns would not even be available until later in the game. This would mean that our algorithm could not predict the winning team until the game was already almost over. This would make the idea of predicting this Victory or Defeat meaningless. \n",
    "\n",
    "As a result, we decided to choose a subset of our data and create a new model utilizing data sets that would be available early in the game and re run our tests. "
   ]
  },
  {
   "cell_type": "code",
   "execution_count": null,
   "metadata": {
    "collapsed": false,
    "jupyter": {
     "outputs_hidden": false
    }
   },
   "outputs": [],
   "source": [
    "cols = [\"gameDuration\", \"firstBlood\", \"firstTower\", \"firstDragon\", \"side\"]"
   ]
  },
  {
   "cell_type": "code",
   "execution_count": null,
   "metadata": {
    "collapsed": false,
    "jupyter": {
     "outputs_hidden": false
    }
   },
   "outputs": [],
   "source": [
    "x = allData[cols]\n",
    "y = allData.win\n",
    "from sklearn import metrics\n",
    "from sklearn.model_selection import train_test_split\n",
    "\n",
    "x_train, x_test, y_train, y_test = train_test_split(x,y, test_size=0.2)"
   ]
  },
  {
   "cell_type": "code",
   "execution_count": null,
   "metadata": {
    "collapsed": false,
    "jupyter": {
     "outputs_hidden": false
    }
   },
   "outputs": [],
   "source": [
    "from sklearn.linear_model import SGDClassifier\n",
    "lst = []\n",
    "for i in range(10):\n",
    "    sgd = SGDClassifier(max_iter = 2000)\n",
    "    sgd.fit(x_train, y_train)\n",
    "    y_pred_sgd = sgd.predict(x_test)\n",
    "    lst += [metrics.accuracy_score(y_test, y_pred_sgd)]"
   ]
  },
  {
   "cell_type": "code",
   "execution_count": null,
   "metadata": {
    "collapsed": false,
    "jupyter": {
     "outputs_hidden": false
    }
   },
   "outputs": [],
   "source": [
    "lst"
   ]
  },
  {
   "cell_type": "code",
   "execution_count": null,
   "metadata": {
    "collapsed": false,
    "jupyter": {
     "outputs_hidden": false
    }
   },
   "outputs": [],
   "source": [
    "sum(lst)/len(lst)"
   ]
  },
  {
   "cell_type": "code",
   "execution_count": null,
   "metadata": {
    "collapsed": false,
    "jupyter": {
     "outputs_hidden": false
    }
   },
   "outputs": [],
   "source": [
    "print(metrics.confusion_matrix(y_test, y_pred_class))"
   ]
  },
  {
   "cell_type": "markdown",
   "metadata": {},
   "source": [
    "We can clearly see that with only a few columns which are indicators that could be obtained at the beginning of the game, the performance of our model has dropped by quite a bit. We decided to try logistic regression to obtain a more accurate model. And our results showed that logistic regression helped us to build a more accurate model. "
   ]
  },
  {
   "cell_type": "code",
   "execution_count": null,
   "metadata": {
    "collapsed": false,
    "jupyter": {
     "outputs_hidden": false
    }
   },
   "outputs": [],
   "source": [
    "lst = []\n",
    "for i in range(10):\n",
    "    logreg = LogisticRegression()\n",
    "    logreg.fit(x_train, y_train)\n",
    "    y_pred_log = logreg.predict(x_test)\n",
    "    lst += [metrics.accuracy_score(y_test, y_pred_log)]"
   ]
  },
  {
   "cell_type": "code",
   "execution_count": null,
   "metadata": {
    "collapsed": false,
    "jupyter": {
     "outputs_hidden": false
    }
   },
   "outputs": [],
   "source": [
    "sum(lst)/len(lst)"
   ]
  },
  {
   "cell_type": "markdown",
   "metadata": {},
   "source": [
    "As a conclusion, we have overall seen throughout multiple runs on our model that the logistic model was more accurate. Furthermore, our accuracy decreased by only decreasing column values or only choosing statistics that would be available at the beginning of a game of League of Legends. However, this was a necessary change as our value proposition comes from the fact that we wa"
   ]
  }
 ],
 "metadata": {
  "kernelspec": {
   "display_name": "Python 3",
   "language": "python",
   "name": "python3"
  },
  "language_info": {
   "codemirror_mode": {
    "name": "ipython",
    "version": 3
   },
   "file_extension": ".py",
   "mimetype": "text/x-python",
   "name": "python",
   "nbconvert_exporter": "python",
   "pygments_lexer": "ipython3",
   "version": "3.7.6"
  }
 },
 "nbformat": 4,
 "nbformat_minor": 4
}
